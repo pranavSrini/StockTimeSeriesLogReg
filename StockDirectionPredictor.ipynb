{
  "nbformat": 4,
  "nbformat_minor": 0,
  "metadata": {
    "colab": {
      "name": "StockDirectionPredictor.ipynb",
      "provenance": [],
      "collapsed_sections": [],
      "toc_visible": true
    },
    "kernelspec": {
      "name": "python3",
      "display_name": "Python 3"
    },
    "accelerator": "GPU"
  },
  "cells": [
    {
      "cell_type": "code",
      "metadata": {
        "id": "8OfU1EiwyIS2",
        "colab": {
          "base_uri": "https://localhost:8080/",
          "height": 615
        },
        "outputId": "d009c0f9-0499-4fc1-ee06-1a1c0e35b944"
      },
      "source": [
        "import torch\n",
        "from google.colab import drive\n",
        "import torch.optim as optim\n",
        "import torch.nn as nn\n",
        "from sklearn import preprocessing\n",
        "import pandas as pd\n",
        "from google.colab import drive\n",
        "import random as rd\n",
        "import numpy as np\n",
        "\n",
        "drive.mount('/content/drive')\n",
        "apple_csv = \"/content/drive/My Drive/Colab Notebooks/AAPL.csv\"\n",
        "\n",
        "\n",
        "aapl_df = pd.read_csv(apple_csv)\n",
        "print(aapl_df.tail())\n",
        "# A random starting date\n",
        "starting_date = rd.randint(0,3000)\n",
        "x_data = []\n",
        "y_data = [] \n",
        "# The goal: to predict wether a stock will increase or decrease on a given day\n",
        "# Our time step is 30 days, meaning we use the past 30 days to predict the next day\n",
        "# We will be predicting on and for 1 feature, the closing price of the stock\n",
        "# The x_dataset will be time_step * num_predictions\n",
        "# The y_dataset will be num_features * num_predictions\n",
        "# We will be doing predictions for 100 days this tutorial\n",
        "# The following algorithm creates the raw data sets, and converts the y values to binary values\n",
        "for x in range(3100):\n",
        "  date = starting_date + x\n",
        "  if((x+620)%31 == 0):\n",
        "    if(aapl_df.loc[date,\"Close\"]>aapl_df.loc[date-1,\"Close\"]):\n",
        "      # The 1 represents a buy signal\n",
        "      y_data.append(1)\n",
        "    else:\n",
        "      # The 0 represents a sell signal\n",
        "      y_data.append(0)\n",
        "  else:\n",
        "    x_data.append(aapl_df.loc[date,\"Close\"])\n",
        "print(len(x_data))\n",
        "#Normalizing the data\n",
        "normal_x = preprocessing.scale(x_data) \n",
        "\n",
        "#Converting the data to tensors\n",
        "x_tensor = torch.FloatTensor(normal_x).float()\n",
        "y_tensor = torch.FloatTensor(y_data).float()\n",
        "\n",
        "# Splitting the data into training and test(80% training, 20% test)\n",
        "x_val_size = x_tensor.shape[0] // 5\n",
        "y_val_size = y_tensor.shape[0] // 5\n",
        "x_train = x_tensor[x_val_size:].cuda()\n",
        "y_train = y_tensor[y_val_size:].cuda()\n",
        "x_valid = x_tensor[:x_val_size].cuda()\n",
        "y_valid = y_tensor[:y_val_size].cuda()\n",
        "\n",
        "# Splitting the input vector into batches for training and test data sets per timestep\n",
        "x_train = torch.split(x_train,30)\n",
        "x_valid = torch.split(x_valid,30)\n",
        "\n",
        "# The deep network\n",
        "class LogisticRegressor(torch.nn.Module):\n",
        "  def __init__(self):\n",
        "        super(LogisticRegressor, self).__init__()\n",
        "        layers = []\n",
        "        num_hidden_layers = 2\n",
        "        input_dim = 30\n",
        "        for i in range(num_hidden_layers):\n",
        "            layers.append(nn.Linear(30,30))\n",
        "            layers.append(nn.ReLU())\n",
        "        self.seq = nn.Sequential(*layers, nn.Linear(30, 1), nn.Sigmoid())        \n",
        "  def forward(self, x):\n",
        "        return self.seq(x)\n",
        "\n",
        "# Hyperparameter Optimization\n",
        "model = LogisticRegressor().cuda()\n",
        "criterion = torch.nn.BCELoss()\n",
        "optimizer = torch.optim.Adam(model.parameters())\n",
        "epochs = 100\n",
        "\n",
        "acc = 0\n",
        "\n",
        "#Training loop\n",
        "def train(x,y,iteration, epoch):\n",
        "        global acc\n",
        "        model.train()\n",
        "        optimizer.zero_grad()\n",
        "        y_train_pred = model(x)\n",
        "        loss = criterion(y_train_pred,y)\n",
        "        if(y == torch.round(y_train_pred)):\n",
        "          acc = acc+1\n",
        "        if(iteration == 79):\n",
        "            if(epoch % 5 == 0):\n",
        "                print(\"Accuracy: {:.4%}\".format(acc/80))\n",
        "            acc = 0\n",
        "        loss.backward()\n",
        "        optimizer.step()\n",
        "\n",
        "#Training\n",
        "for y in range(epochs):\n",
        "  for z in range(80):\n",
        "    train(x_train[z],y_train[z],z, y)\n",
        "\n",
        "# validation and evaluation\n",
        "val_acc = 0\n",
        "model.eval()\n",
        "for x in range(20):\n",
        "  global val_acc\n",
        "  y_pred = model(x_valid[x])\n",
        "  if(torch.round(y_pred) == y_valid[x]):\n",
        "      val_acc = val_acc + 1\n",
        "print(val_acc/20)\n"
      ],
      "execution_count": null,
      "outputs": [
        {
          "output_type": "stream",
          "text": [
            "Drive already mounted at /content/drive; to attempt to forcibly remount, call drive.mount(\"/content/drive\", force_remount=True).\n",
            "            Date        Open        High  ...       Close   Adj Close      Volume\n",
            "9858  2020-01-17  316.269989  318.739990  ...  318.730011  318.730011  34454100.0\n",
            "9859  2020-01-21  317.190002  319.019989  ...  316.570007  316.570007  27710800.0\n",
            "9860  2020-01-22  318.579987  319.989990  ...  317.700012  317.700012  25458100.0\n",
            "9861  2020-01-23  317.920013  319.559998  ...  319.230011  319.230011  26118000.0\n",
            "9862  2020-01-24  320.250000  323.329987  ...  318.309998  318.309998  36600500.0\n",
            "\n",
            "[5 rows x 7 columns]\n",
            "3000\n",
            "<generator object Module.parameters at 0x7fece4553c50>\n"
          ],
          "name": "stdout"
        },
        {
          "output_type": "stream",
          "text": [
            "/usr/local/lib/python3.6/dist-packages/torch/nn/modules/loss.py:516: UserWarning: Using a target size (torch.Size([])) that is different to the input size (torch.Size([1])) is deprecated. Please ensure they have the same size.\n",
            "  return F.binary_cross_entropy(input, target, weight=self.weight, reduction=self.reduction)\n"
          ],
          "name": "stderr"
        },
        {
          "output_type": "stream",
          "text": [
            "Accuracy: 41.2500%\n",
            "Accuracy: 56.2500%\n",
            "Accuracy: 57.5000%\n",
            "Accuracy: 57.5000%\n",
            "Accuracy: 57.5000%\n",
            "Accuracy: 60.0000%\n",
            "Accuracy: 60.0000%\n",
            "Accuracy: 56.2500%\n",
            "Accuracy: 60.0000%\n",
            "Accuracy: 61.2500%\n",
            "Accuracy: 61.2500%\n",
            "Accuracy: 65.0000%\n",
            "Accuracy: 67.5000%\n",
            "Accuracy: 68.7500%\n",
            "Accuracy: 73.7500%\n",
            "Accuracy: 71.2500%\n",
            "Accuracy: 77.5000%\n",
            "Accuracy: 76.2500%\n",
            "Accuracy: 78.7500%\n",
            "Accuracy: 77.5000%\n",
            "0.35\n"
          ],
          "name": "stdout"
        }
      ]
    },
    {
      "cell_type": "code",
      "metadata": {
        "id": "zojpwG6T15sd",
        "colab": {
          "base_uri": "https://localhost:8080/",
          "height": 122
        },
        "outputId": "c9863c29-9e5b-403d-eadf-60bf1620c28c"
      },
      "source": [
        "from google.colab import drive\n",
        "drive.mount('/content/drive')"
      ],
      "execution_count": null,
      "outputs": [
        {
          "output_type": "stream",
          "text": [
            "Go to this URL in a browser: https://accounts.google.com/o/oauth2/auth?client_id=947318989803-6bn6qk8qdgf4n4g3pfee6491hc0brc4i.apps.googleusercontent.com&redirect_uri=urn%3aietf%3awg%3aoauth%3a2.0%3aoob&response_type=code&scope=email%20https%3a%2f%2fwww.googleapis.com%2fauth%2fdocs.test%20https%3a%2f%2fwww.googleapis.com%2fauth%2fdrive%20https%3a%2f%2fwww.googleapis.com%2fauth%2fdrive.photos.readonly%20https%3a%2f%2fwww.googleapis.com%2fauth%2fpeopleapi.readonly\n",
            "\n",
            "Enter your authorization code:\n",
            "··········\n",
            "Mounted at /content/drive\n"
          ],
          "name": "stdout"
        }
      ]
    }
  ]
}